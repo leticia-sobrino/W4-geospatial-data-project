{
 "cells": [
  {
   "cell_type": "markdown",
   "metadata": {},
   "source": [
    "## API FOURSQUARE DEVELOPERS\n",
    "\n",
    "##### VAMOS A INVESTIGAR TANTO EN LONDRES COMO EN MADRID:\n",
    "* LOS BARES QUE HAY\n",
    "* LOS COLEGIOS QUE HAY POR LA ZONA PARA FACILITAR A LOS TRABAJADORES CON HIJOS LA ENTRADA Y SALIDA DE LOS COLEGIOS, Y ESTANDO CERCANOS A NUESTRA EMPRESA PUES MUCHO MEJOR\n",
    "* Y LOS EVENTOS Y CONFEENCIA QUE HAY AL REDEDOR DE NUESTRA POSIBLES UBICACIONES PARA NUESTRA EMPRESA:\n",
    "    - A parte de a que nuestros diseñodores le guste ir a conferencias de diseño, pienso que es muy bueno para todos los miebros de la empresa ir a conferencias relacionadas en su campo: ¡ APRENDER NUNCA ESTA DE MÁS!"
   ]
  },
  {
   "cell_type": "code",
   "execution_count": 139,
   "metadata": {},
   "outputs": [],
   "source": [
    "# ESTAS LIBRERIAS SON PARA LLAMAR A NUESTRA API Y  A NUESTRO TOKEN DEL PUNTO ENV ADEMAS DE PANDAS PARA CREAR TABLAS\n",
    "import requests\n",
    "import json\n",
    "from dotenv import load_dotenv\n",
    "import os\n",
    "import pandas as pd\n",
    "from functools import reduce\n",
    "import operator"
   ]
  },
  {
   "cell_type": "code",
   "execution_count": 140,
   "metadata": {},
   "outputs": [
    {
     "data": {
      "text/plain": [
       "True"
      ]
     },
     "execution_count": 140,
     "metadata": {},
     "output_type": "execute_result"
    }
   ],
   "source": [
    "load_dotenv()"
   ]
  },
  {
   "cell_type": "code",
   "execution_count": 166,
   "metadata": {},
   "outputs": [],
   "source": [
    "# LIBRERIA PARA JUNTAR NUESTRAS COORDENAS Y CREAR EL POINT\n",
    "import geopandas as gpd"
   ]
  },
  {
   "cell_type": "code",
   "execution_count": 165,
   "metadata": {},
   "outputs": [],
   "source": [
    "# PARA CREAR MAPAS\n",
    "from cartoframes.viz import Map, Layer, popup_element\n",
    "import folium\n",
    "from folium import Choropleth, Circle, Marker, Icon, Map\n",
    "from folium.plugins import HeatMap, MarkerCluster\n",
    "from cartoframes.viz import Map, Layer, popup_element, size_continuous_style, color_continuous_style"
   ]
  },
  {
   "cell_type": "markdown",
   "metadata": {},
   "source": [
    "# MADRID"
   ]
  },
  {
   "cell_type": "markdown",
   "metadata": {},
   "source": [
    "#### IMPORTAMOS MI DF DE LAS EMPRESAS EN MADRID DONDE ME GUSTARIA ESTAR AL REDEDOR"
   ]
  },
  {
   "cell_type": "code",
   "execution_count": 156,
   "metadata": {},
   "outputs": [
    {
     "data": {
      "text/html": [
       "<div>\n",
       "<style scoped>\n",
       "    .dataframe tbody tr th:only-of-type {\n",
       "        vertical-align: middle;\n",
       "    }\n",
       "\n",
       "    .dataframe tbody tr th {\n",
       "        vertical-align: top;\n",
       "    }\n",
       "\n",
       "    .dataframe thead th {\n",
       "        text-align: right;\n",
       "    }\n",
       "</style>\n",
       "<table border=\"1\" class=\"dataframe\">\n",
       "  <thead>\n",
       "    <tr style=\"text-align: right;\">\n",
       "      <th></th>\n",
       "      <th>Unnamed: 0</th>\n",
       "      <th>name</th>\n",
       "      <th>latitude</th>\n",
       "      <th>longitude</th>\n",
       "      <th>geometry</th>\n",
       "    </tr>\n",
       "  </thead>\n",
       "  <tbody>\n",
       "    <tr>\n",
       "      <th>0</th>\n",
       "      <td>0</td>\n",
       "      <td>Digital Assets Deployment</td>\n",
       "      <td>40.420460</td>\n",
       "      <td>-3.678121</td>\n",
       "      <td>POINT (-3.678121 40.42046)</td>\n",
       "    </tr>\n",
       "    <tr>\n",
       "      <th>1</th>\n",
       "      <td>1</td>\n",
       "      <td>Daily Flat Rental</td>\n",
       "      <td>40.412323</td>\n",
       "      <td>-3.703248</td>\n",
       "      <td>POINT (-3.703248 40.412323)</td>\n",
       "    </tr>\n",
       "    <tr>\n",
       "      <th>2</th>\n",
       "      <td>3</td>\n",
       "      <td>ticketea</td>\n",
       "      <td>40.445516</td>\n",
       "      <td>-3.706176</td>\n",
       "      <td>POINT (-3.7061764 40.4455155)</td>\n",
       "    </tr>\n",
       "    <tr>\n",
       "      <th>3</th>\n",
       "      <td>4</td>\n",
       "      <td>BuyVIP</td>\n",
       "      <td>40.416741</td>\n",
       "      <td>-3.703250</td>\n",
       "      <td>POINT (-3.7032498 40.4167413)</td>\n",
       "    </tr>\n",
       "  </tbody>\n",
       "</table>\n",
       "</div>"
      ],
      "text/plain": [
       "   Unnamed: 0                       name   latitude  longitude  \\\n",
       "0           0  Digital Assets Deployment  40.420460  -3.678121   \n",
       "1           1          Daily Flat Rental  40.412323  -3.703248   \n",
       "2           3                   ticketea  40.445516  -3.706176   \n",
       "3           4                     BuyVIP  40.416741  -3.703250   \n",
       "\n",
       "                        geometry  \n",
       "0     POINT (-3.678121 40.42046)  \n",
       "1    POINT (-3.703248 40.412323)  \n",
       "2  POINT (-3.7061764 40.4455155)  \n",
       "3  POINT (-3.7032498 40.4167413)  "
      ]
     },
     "execution_count": 156,
     "metadata": {},
     "output_type": "execute_result"
    }
   ],
   "source": [
    "gdf_coodenadas_Madrid = pd.read_csv('../output/Madrid_coordenadas_clean.csv')\n",
    "gdf_coodenadas_Madrid"
   ]
  },
  {
   "cell_type": "markdown",
   "metadata": {},
   "source": [
    "### API de Foursaquare developers --> BARS"
   ]
  },
  {
   "cell_type": "code",
   "execution_count": 47,
   "metadata": {},
   "outputs": [],
   "source": [
    "token1 = os.getenv(\"token1\")\n",
    "token2 = os.getenv(\"token2\")"
   ]
  },
  {
   "cell_type": "code",
   "execution_count": 48,
   "metadata": {},
   "outputs": [],
   "source": [
    "enlace = \"https://api.foursquare.com/v2/venues/explore\"\n",
    "bar = \"4bf58dd8d48988d116941735\""
   ]
  },
  {
   "cell_type": "code",
   "execution_count": 101,
   "metadata": {},
   "outputs": [],
   "source": [
    "def get_closest(latitude, longitude, categoryId):\n",
    "    parametros = { \"client_id\" : token1,\n",
    "          \"client_secret\" : token2,\n",
    "          \"v\" : \"20180323\",\n",
    "          \"ll\": f\"{latitude},{longitude}\",\n",
    "          \"categoryId\" : categoryId,\n",
    "          \"limit\" : 1\n",
    "    }\n",
    "    resp = requests.get (url = enlace, params = parametros)\n",
    "    data = json.loads(resp.text)\n",
    "    decoding_data = data.get(\"response\")\n",
    "    decoded = decoding_data.get(\"groups\")[0]\n",
    "    bars = decoded.get(\"items\")\n",
    "    \n",
    "    nombre = [\"venue\",\"name\"]\n",
    "    latitud = [\"venue\", \"location\",\"lat\"]\n",
    "    longitud = [\"venue\",\"location\",\"lng\"]\n",
    "    \n",
    "    def getFromDict(diccionario,mapa):\n",
    "        return reduce(operator.getitem,mapa,diccionario)\n",
    "    \n",
    "    mis_bares = []\n",
    "    for diccionario in bars:\n",
    "        paralista = {}\n",
    "        paralista[\"name\"] = getFromDict(diccionario,nombre)\n",
    "        paralista[\"latitud\"] = getFromDict(diccionario,latitud)\n",
    "        paralista[\"longitud\"] = getFromDict(diccionario,longitud)\n",
    "        mis_bares.append(paralista)\n",
    "    \n",
    "    df_bares_madrid = pd.DataFrame(mis_bares)\n",
    "    \n",
    "    \n",
    "    return df_bares_madrid"
   ]
  },
  {
   "cell_type": "code",
   "execution_count": 254,
   "metadata": {},
   "outputs": [],
   "source": [
    "df_Digital_Assets_Deployment = get_closest(40.420460, -3.678121, \"4bf58dd8d48988d116941735\")    "
   ]
  },
  {
   "cell_type": "code",
   "execution_count": 103,
   "metadata": {},
   "outputs": [],
   "source": [
    "df_Daily_Flat_Rental = get_closest(40.412323, -3.703248, \"4bf58dd8d48988d116941735\")"
   ]
  },
  {
   "cell_type": "code",
   "execution_count": 104,
   "metadata": {},
   "outputs": [],
   "source": [
    "df_ticketea = get_closest(40.445516, -3.706176, \"4bf58dd8d48988d116941735\")"
   ]
  },
  {
   "cell_type": "code",
   "execution_count": 105,
   "metadata": {},
   "outputs": [],
   "source": [
    "df_BuyVIP = get_closest(40.416741, -3.703250, \"4bf58dd8d48988d116941735\")"
   ]
  },
  {
   "cell_type": "code",
   "execution_count": 255,
   "metadata": {
    "scrolled": true
   },
   "outputs": [
    {
     "data": {
      "text/html": [
       "<div>\n",
       "<style scoped>\n",
       "    .dataframe tbody tr th:only-of-type {\n",
       "        vertical-align: middle;\n",
       "    }\n",
       "\n",
       "    .dataframe tbody tr th {\n",
       "        vertical-align: top;\n",
       "    }\n",
       "\n",
       "    .dataframe thead th {\n",
       "        text-align: right;\n",
       "    }\n",
       "</style>\n",
       "<table border=\"1\" class=\"dataframe\">\n",
       "  <thead>\n",
       "    <tr style=\"text-align: right;\">\n",
       "      <th></th>\n",
       "      <th>name</th>\n",
       "      <th>latitud</th>\n",
       "      <th>longitud</th>\n",
       "      <th>category</th>\n",
       "    </tr>\n",
       "  </thead>\n",
       "  <tbody>\n",
       "    <tr>\n",
       "      <th>0</th>\n",
       "      <td>La Castela</td>\n",
       "      <td>40.420435</td>\n",
       "      <td>-3.676564</td>\n",
       "      <td>bars</td>\n",
       "    </tr>\n",
       "    <tr>\n",
       "      <th>1</th>\n",
       "      <td>Madrid cerrajeros</td>\n",
       "      <td>40.416553</td>\n",
       "      <td>-3.703803</td>\n",
       "      <td>bars</td>\n",
       "    </tr>\n",
       "    <tr>\n",
       "      <th>2</th>\n",
       "      <td>REEDIFIC</td>\n",
       "      <td>40.446784</td>\n",
       "      <td>-3.703803</td>\n",
       "      <td>bars</td>\n",
       "    </tr>\n",
       "    <tr>\n",
       "      <th>3</th>\n",
       "      <td>Madrid cerrajeros</td>\n",
       "      <td>40.416553</td>\n",
       "      <td>-3.703803</td>\n",
       "      <td>bars</td>\n",
       "    </tr>\n",
       "  </tbody>\n",
       "</table>\n",
       "</div>"
      ],
      "text/plain": [
       "                name    latitud  longitud category\n",
       "0         La Castela  40.420435 -3.676564     bars\n",
       "1  Madrid cerrajeros  40.416553 -3.703803     bars\n",
       "2           REEDIFIC  40.446784 -3.703803     bars\n",
       "3  Madrid cerrajeros  40.416553 -3.703803     bars"
      ]
     },
     "execution_count": 255,
     "metadata": {},
     "output_type": "execute_result"
    }
   ],
   "source": [
    "closest_bars_to_my_company = pd.concat([df_Digital_Assets_Deployment, df_Daily_Flat_Rental, df_ticketea, df_BuyVIP], axis=0)\n",
    "closest_bars_to_my_companies = closest_bars_to_my_company.reset_index(drop=True)\n",
    "closest_bars_to_my_companies.loc[:,'category'] = ['bars', 'bars', 'bars', 'bars']\n",
    "closest_bars_to_my_companies"
   ]
  },
  {
   "cell_type": "code",
   "execution_count": 253,
   "metadata": {},
   "outputs": [],
   "source": [
    "closest_bars_to_my_companies.to_csv('../output/closest_bars_to_my_companies.csv')"
   ]
  },
  {
   "cell_type": "markdown",
   "metadata": {},
   "source": [
    "### API de Foursaquare developers --> CONFERENCES"
   ]
  },
  {
   "cell_type": "code",
   "execution_count": 186,
   "metadata": {},
   "outputs": [],
   "source": [
    "enlace = \"https://api.foursquare.com/v2/venues/explore\"\n",
    "conferences = \"5267e4d9e4b0ec79466e48c6\""
   ]
  },
  {
   "cell_type": "code",
   "execution_count": 187,
   "metadata": {},
   "outputs": [],
   "source": [
    "df_Digital_Assets_Deployment_b = get_closest(40.420460, -3.678121, \"5267e4d9e4b0ec79466e48c6\")  "
   ]
  },
  {
   "cell_type": "code",
   "execution_count": 188,
   "metadata": {},
   "outputs": [],
   "source": [
    "df_Daily_Flat_Rental_b = get_closest(40.412323, -3.703248, \"5267e4d9e4b0ec79466e48c6\")"
   ]
  },
  {
   "cell_type": "code",
   "execution_count": 189,
   "metadata": {},
   "outputs": [],
   "source": [
    "df_ticketea_b = get_closest(40.445516, -3.706176, \"5267e4d9e4b0ec79466e48c6\")"
   ]
  },
  {
   "cell_type": "code",
   "execution_count": 190,
   "metadata": {},
   "outputs": [],
   "source": [
    "df_BuyVIP_b = get_closest(40.416741, -3.703250, \"5267e4d9e4b0ec79466e48c6\")"
   ]
  },
  {
   "cell_type": "code",
   "execution_count": 247,
   "metadata": {},
   "outputs": [
    {
     "data": {
      "text/html": [
       "<div>\n",
       "<style scoped>\n",
       "    .dataframe tbody tr th:only-of-type {\n",
       "        vertical-align: middle;\n",
       "    }\n",
       "\n",
       "    .dataframe tbody tr th {\n",
       "        vertical-align: top;\n",
       "    }\n",
       "\n",
       "    .dataframe thead th {\n",
       "        text-align: right;\n",
       "    }\n",
       "</style>\n",
       "<table border=\"1\" class=\"dataframe\">\n",
       "  <thead>\n",
       "    <tr style=\"text-align: right;\">\n",
       "      <th></th>\n",
       "      <th>name</th>\n",
       "      <th>latitud</th>\n",
       "      <th>longitud</th>\n",
       "      <th>category</th>\n",
       "    </tr>\n",
       "  </thead>\n",
       "  <tbody>\n",
       "    <tr>\n",
       "      <th>0</th>\n",
       "      <td>Elzalburu</td>\n",
       "      <td>40.436095</td>\n",
       "      <td>-3.691326</td>\n",
       "      <td>conference</td>\n",
       "    </tr>\n",
       "    <tr>\n",
       "      <th>1</th>\n",
       "      <td>hokena rung</td>\n",
       "      <td>40.411633</td>\n",
       "      <td>-3.707981</td>\n",
       "      <td>conference</td>\n",
       "    </tr>\n",
       "    <tr>\n",
       "      <th>2</th>\n",
       "      <td>Espacio Efímeral</td>\n",
       "      <td>40.453630</td>\n",
       "      <td>-3.704104</td>\n",
       "      <td>conference</td>\n",
       "    </tr>\n",
       "    <tr>\n",
       "      <th>3</th>\n",
       "      <td>hokena rung</td>\n",
       "      <td>40.411633</td>\n",
       "      <td>-3.707981</td>\n",
       "      <td>conference</td>\n",
       "    </tr>\n",
       "  </tbody>\n",
       "</table>\n",
       "</div>"
      ],
      "text/plain": [
       "               name    latitud  longitud    category\n",
       "0         Elzalburu  40.436095 -3.691326  conference\n",
       "1       hokena rung  40.411633 -3.707981  conference\n",
       "2  Espacio Efímeral  40.453630 -3.704104  conference\n",
       "3       hokena rung  40.411633 -3.707981  conference"
      ]
     },
     "execution_count": 247,
     "metadata": {},
     "output_type": "execute_result"
    }
   ],
   "source": [
    "closest_conferences_to_my_company = pd.concat([df_Digital_Assets_Deployment_b, df_Daily_Flat_Rental_b, df_ticketea_b, df_BuyVIP_b], axis=0)\n",
    "\n",
    "closest_conferences_to_my_companies = closest_business_center_to_my_company.reset_index(drop=True)\n",
    "closest_conferences_to_my_companies.loc[:,'category'] = ['conference', 'conference', 'conference', 'conference']\n",
    "closest_conferences_to_my_companies"
   ]
  },
  {
   "cell_type": "code",
   "execution_count": 248,
   "metadata": {},
   "outputs": [],
   "source": [
    "closest_conferences_to_my_companies.to_csv('../output/coordenadas_conferences.csv')"
   ]
  },
  {
   "cell_type": "markdown",
   "metadata": {},
   "source": [
    "### API de Foursaquare developers --> ELEMENTARY SCHOOL"
   ]
  },
  {
   "cell_type": "code",
   "execution_count": 121,
   "metadata": {},
   "outputs": [],
   "source": [
    "enlace = \"https://api.foursquare.com/v2/venues/explore\"\n",
    "elementary_school = \"4f4533804b9074f6e4fb0105\""
   ]
  },
  {
   "cell_type": "code",
   "execution_count": 122,
   "metadata": {},
   "outputs": [],
   "source": [
    "df_Digital_Assets_Deployment_s = get_closest(40.420460, -3.678121, \"4f4533804b9074f6e4fb0105\")  "
   ]
  },
  {
   "cell_type": "code",
   "execution_count": 127,
   "metadata": {},
   "outputs": [],
   "source": [
    "df_Daily_Flat_Rental_s = get_closest(40.412323, -3.703248, \"4f4533804b9074f6e4fb0105\")"
   ]
  },
  {
   "cell_type": "code",
   "execution_count": 128,
   "metadata": {},
   "outputs": [],
   "source": [
    "df_ticketea_s = get_closest(40.445516, -3.706176, \"4f4533804b9074f6e4fb0105\")"
   ]
  },
  {
   "cell_type": "code",
   "execution_count": 129,
   "metadata": {},
   "outputs": [],
   "source": [
    "df_BuyVIP_s = get_closest(40.416741, -3.703250, \"4f4533804b9074f6e4fb0105\")"
   ]
  },
  {
   "cell_type": "code",
   "execution_count": 245,
   "metadata": {},
   "outputs": [
    {
     "data": {
      "text/html": [
       "<div>\n",
       "<style scoped>\n",
       "    .dataframe tbody tr th:only-of-type {\n",
       "        vertical-align: middle;\n",
       "    }\n",
       "\n",
       "    .dataframe tbody tr th {\n",
       "        vertical-align: top;\n",
       "    }\n",
       "\n",
       "    .dataframe thead th {\n",
       "        text-align: right;\n",
       "    }\n",
       "</style>\n",
       "<table border=\"1\" class=\"dataframe\">\n",
       "  <thead>\n",
       "    <tr style=\"text-align: right;\">\n",
       "      <th></th>\n",
       "      <th>name</th>\n",
       "      <th>latitud</th>\n",
       "      <th>longitud</th>\n",
       "      <th>category</th>\n",
       "    </tr>\n",
       "  </thead>\n",
       "  <tbody>\n",
       "    <tr>\n",
       "      <th>0</th>\n",
       "      <td>Nuestra Señora De La Almudena</td>\n",
       "      <td>40.419158</td>\n",
       "      <td>-3.677935</td>\n",
       "      <td>school</td>\n",
       "    </tr>\n",
       "    <tr>\n",
       "      <th>1</th>\n",
       "      <td>CEIP Isabel la Catolica</td>\n",
       "      <td>40.426336</td>\n",
       "      <td>-3.699751</td>\n",
       "      <td>school</td>\n",
       "    </tr>\n",
       "    <tr>\n",
       "      <th>2</th>\n",
       "      <td>Centro educativo Maria Inmaculada Fuencarral</td>\n",
       "      <td>40.427867</td>\n",
       "      <td>-3.703431</td>\n",
       "      <td>school</td>\n",
       "    </tr>\n",
       "    <tr>\n",
       "      <th>3</th>\n",
       "      <td>CEIP Isabel la Catolica</td>\n",
       "      <td>40.426336</td>\n",
       "      <td>-3.699751</td>\n",
       "      <td>school</td>\n",
       "    </tr>\n",
       "  </tbody>\n",
       "</table>\n",
       "</div>"
      ],
      "text/plain": [
       "                                           name    latitud  longitud category\n",
       "0                 Nuestra Señora De La Almudena  40.419158 -3.677935   school\n",
       "1                       CEIP Isabel la Catolica  40.426336 -3.699751   school\n",
       "2  Centro educativo Maria Inmaculada Fuencarral  40.427867 -3.703431   school\n",
       "3                       CEIP Isabel la Catolica  40.426336 -3.699751   school"
      ]
     },
     "execution_count": 245,
     "metadata": {},
     "output_type": "execute_result"
    }
   ],
   "source": [
    "closest_school_to_my_company = pd.concat([df_Digital_Assets_Deployment_s, df_Daily_Flat_Rental_s, df_ticketea_s, df_BuyVIP_s], axis=0)\n",
    "closest_school_to_my_companies = closest_school_to_my_company.reset_index(drop=True)\n",
    "closest_school_to_my_companies.loc[:,'category'] = ['school', 'school', 'school', 'school']\n",
    "closest_school_to_my_companies"
   ]
  },
  {
   "cell_type": "code",
   "execution_count": 246,
   "metadata": {},
   "outputs": [],
   "source": [
    "closest_school_to_my_companies.to_csv('../output/coordenadas_schools.csv')"
   ]
  },
  {
   "cell_type": "markdown",
   "metadata": {},
   "source": [
    "# LONDON"
   ]
  },
  {
   "cell_type": "code",
   "execution_count": 234,
   "metadata": {},
   "outputs": [
    {
     "data": {
      "text/html": [
       "<div>\n",
       "<style scoped>\n",
       "    .dataframe tbody tr th:only-of-type {\n",
       "        vertical-align: middle;\n",
       "    }\n",
       "\n",
       "    .dataframe tbody tr th {\n",
       "        vertical-align: top;\n",
       "    }\n",
       "\n",
       "    .dataframe thead th {\n",
       "        text-align: right;\n",
       "    }\n",
       "</style>\n",
       "<table border=\"1\" class=\"dataframe\">\n",
       "  <thead>\n",
       "    <tr style=\"text-align: right;\">\n",
       "      <th></th>\n",
       "      <th>Unnamed: 0</th>\n",
       "      <th>name</th>\n",
       "      <th>latitud</th>\n",
       "      <th>longitud</th>\n",
       "      <th>category</th>\n",
       "    </tr>\n",
       "  </thead>\n",
       "  <tbody>\n",
       "    <tr>\n",
       "      <th>0</th>\n",
       "      <td>1</td>\n",
       "      <td>Seatwave</td>\n",
       "      <td>51.500152</td>\n",
       "      <td>-0.126236</td>\n",
       "      <td>company</td>\n",
       "    </tr>\n",
       "    <tr>\n",
       "      <th>1</th>\n",
       "      <td>2</td>\n",
       "      <td>ProcServe</td>\n",
       "      <td>51.494067</td>\n",
       "      <td>-0.146665</td>\n",
       "      <td>company</td>\n",
       "    </tr>\n",
       "    <tr>\n",
       "      <th>2</th>\n",
       "      <td>6</td>\n",
       "      <td>Shutl</td>\n",
       "      <td>51.519613</td>\n",
       "      <td>-0.102026</td>\n",
       "      <td>company</td>\n",
       "    </tr>\n",
       "    <tr>\n",
       "      <th>3</th>\n",
       "      <td>9</td>\n",
       "      <td>Autoquake</td>\n",
       "      <td>51.543337</td>\n",
       "      <td>-0.172364</td>\n",
       "      <td>company</td>\n",
       "    </tr>\n",
       "    <tr>\n",
       "      <th>4</th>\n",
       "      <td>10</td>\n",
       "      <td>Schway</td>\n",
       "      <td>51.519816</td>\n",
       "      <td>-0.136162</td>\n",
       "      <td>company</td>\n",
       "    </tr>\n",
       "  </tbody>\n",
       "</table>\n",
       "</div>"
      ],
      "text/plain": [
       "   Unnamed: 0       name    latitud  longitud category\n",
       "0           1   Seatwave  51.500152 -0.126236  company\n",
       "1           2  ProcServe  51.494067 -0.146665  company\n",
       "2           6      Shutl  51.519613 -0.102026  company\n",
       "3           9  Autoquake  51.543337 -0.172364  company\n",
       "4          10     Schway  51.519816 -0.136162  company"
      ]
     },
     "execution_count": 234,
     "metadata": {},
     "output_type": "execute_result"
    }
   ],
   "source": [
    "gdf_coodenadas_London = pd.read_csv('../output/London_coordenadas_clean.csv')\n",
    "gdf_coodenadas_London.rename(columns={'latitude': 'latitud', 'longitude': 'longitud'}, inplace=True)\n",
    "gdf_coodenadas_London.loc[:,'category'] = ['company', 'company', 'company', 'company', 'company']\n",
    "gdf_coodenadas_London"
   ]
  },
  {
   "cell_type": "markdown",
   "metadata": {},
   "source": [
    "### API de Foursaquare developers --> BARS"
   ]
  },
  {
   "cell_type": "code",
   "execution_count": 201,
   "metadata": {},
   "outputs": [],
   "source": [
    "enlace = \"https://api.foursquare.com/v2/venues/explore\"\n",
    "bar = \"4bf58dd8d48988d116941735\""
   ]
  },
  {
   "cell_type": "code",
   "execution_count": 212,
   "metadata": {},
   "outputs": [],
   "source": [
    "df_Seatwave = get_closest(51.500152, -0.126236, \"4bf58dd8d48988d116941735\") "
   ]
  },
  {
   "cell_type": "code",
   "execution_count": 203,
   "metadata": {},
   "outputs": [],
   "source": [
    "df_ProcServe = get_closest(51.494067, -0.146665, \"4bf58dd8d48988d116941735\") "
   ]
  },
  {
   "cell_type": "code",
   "execution_count": 204,
   "metadata": {},
   "outputs": [],
   "source": [
    "df_Shutl = get_closest(51.519613, -0.102026, \"4bf58dd8d48988d116941735\") "
   ]
  },
  {
   "cell_type": "code",
   "execution_count": 205,
   "metadata": {},
   "outputs": [],
   "source": [
    "df_Autoquake = get_closest(51.543337, -0.172364, \"4bf58dd8d48988d116941735\") "
   ]
  },
  {
   "cell_type": "code",
   "execution_count": 206,
   "metadata": {},
   "outputs": [],
   "source": [
    "df_Schway = get_closest(51.519816, -0.136162, \"4bf58dd8d48988d116941735\") "
   ]
  },
  {
   "cell_type": "code",
   "execution_count": 214,
   "metadata": {},
   "outputs": [
    {
     "data": {
      "text/html": [
       "<div>\n",
       "<style scoped>\n",
       "    .dataframe tbody tr th:only-of-type {\n",
       "        vertical-align: middle;\n",
       "    }\n",
       "\n",
       "    .dataframe tbody tr th {\n",
       "        vertical-align: top;\n",
       "    }\n",
       "\n",
       "    .dataframe thead th {\n",
       "        text-align: right;\n",
       "    }\n",
       "</style>\n",
       "<table border=\"1\" class=\"dataframe\">\n",
       "  <thead>\n",
       "    <tr style=\"text-align: right;\">\n",
       "      <th></th>\n",
       "      <th>name</th>\n",
       "      <th>latitud</th>\n",
       "      <th>longitud</th>\n",
       "      <th>category</th>\n",
       "    </tr>\n",
       "  </thead>\n",
       "  <tbody>\n",
       "    <tr>\n",
       "      <th>0</th>\n",
       "      <td>Strangers' Bar</td>\n",
       "      <td>51.499564</td>\n",
       "      <td>-0.123919</td>\n",
       "      <td>bars</td>\n",
       "    </tr>\n",
       "    <tr>\n",
       "      <th>1</th>\n",
       "      <td>The Goring Bar &amp; Lounge</td>\n",
       "      <td>51.497385</td>\n",
       "      <td>-0.145475</td>\n",
       "      <td>bars</td>\n",
       "    </tr>\n",
       "    <tr>\n",
       "      <th>2</th>\n",
       "      <td>Oriole</td>\n",
       "      <td>51.518904</td>\n",
       "      <td>-0.102672</td>\n",
       "      <td>bars</td>\n",
       "    </tr>\n",
       "    <tr>\n",
       "      <th>3</th>\n",
       "      <td>The Gallery</td>\n",
       "      <td>51.546509</td>\n",
       "      <td>-0.190200</td>\n",
       "      <td>bars</td>\n",
       "    </tr>\n",
       "    <tr>\n",
       "      <th>4</th>\n",
       "      <td>Bradley's Spanish Bar</td>\n",
       "      <td>51.516488</td>\n",
       "      <td>-0.132462</td>\n",
       "      <td>bars</td>\n",
       "    </tr>\n",
       "  </tbody>\n",
       "</table>\n",
       "</div>"
      ],
      "text/plain": [
       "                      name    latitud  longitud category\n",
       "0           Strangers' Bar  51.499564 -0.123919     bars\n",
       "1  The Goring Bar & Lounge  51.497385 -0.145475     bars\n",
       "2                   Oriole  51.518904 -0.102672     bars\n",
       "3              The Gallery  51.546509 -0.190200     bars\n",
       "4    Bradley's Spanish Bar  51.516488 -0.132462     bars"
      ]
     },
     "execution_count": 214,
     "metadata": {},
     "output_type": "execute_result"
    }
   ],
   "source": [
    "closest_bars_london = pd.concat([df_Seatwave, df_ProcServe, df_Shutl, df_Autoquake, df_Schway], axis=0)\n",
    "closest_bars_london = closest_bars_london.reset_index(drop=True)\n",
    "closest_bars_london.loc[:,'category'] = ['bars', 'bars', 'bars', 'bars', 'bars']\n",
    "closest_bars_london"
   ]
  },
  {
   "cell_type": "markdown",
   "metadata": {},
   "source": [
    "### API de Foursaquare developers --> CONFERENCES"
   ]
  },
  {
   "cell_type": "code",
   "execution_count": 217,
   "metadata": {},
   "outputs": [],
   "source": [
    "enlace = \"https://api.foursquare.com/v2/venues/explore\"\n",
    "conferences = \"5267e4d9e4b0ec79466e48c6\""
   ]
  },
  {
   "cell_type": "code",
   "execution_count": 218,
   "metadata": {},
   "outputs": [],
   "source": [
    "df_Seatwave = get_closest(51.500152, -0.126236, \"5267e4d9e4b0ec79466e48c6\") "
   ]
  },
  {
   "cell_type": "code",
   "execution_count": 219,
   "metadata": {},
   "outputs": [],
   "source": [
    "df_ProcServe = get_closest(51.494067, -0.146665, \"5267e4d9e4b0ec79466e48c6\") "
   ]
  },
  {
   "cell_type": "code",
   "execution_count": 220,
   "metadata": {},
   "outputs": [],
   "source": [
    "df_Shutl = get_closest(51.519613, -0.102026, \"5267e4d9e4b0ec79466e48c6\") "
   ]
  },
  {
   "cell_type": "code",
   "execution_count": 221,
   "metadata": {},
   "outputs": [],
   "source": [
    "df_Autoquake = get_closest(51.543337, -0.172364, \"5267e4d9e4b0ec79466e48c6\") "
   ]
  },
  {
   "cell_type": "code",
   "execution_count": 222,
   "metadata": {},
   "outputs": [],
   "source": [
    "df_Schway = get_closest(51.519816, -0.136162, \"5267e4d9e4b0ec79466e48c6\")"
   ]
  },
  {
   "cell_type": "code",
   "execution_count": 223,
   "metadata": {},
   "outputs": [
    {
     "data": {
      "text/html": [
       "<div>\n",
       "<style scoped>\n",
       "    .dataframe tbody tr th:only-of-type {\n",
       "        vertical-align: middle;\n",
       "    }\n",
       "\n",
       "    .dataframe tbody tr th {\n",
       "        vertical-align: top;\n",
       "    }\n",
       "\n",
       "    .dataframe thead th {\n",
       "        text-align: right;\n",
       "    }\n",
       "</style>\n",
       "<table border=\"1\" class=\"dataframe\">\n",
       "  <thead>\n",
       "    <tr style=\"text-align: right;\">\n",
       "      <th></th>\n",
       "      <th>name</th>\n",
       "      <th>latitud</th>\n",
       "      <th>longitud</th>\n",
       "      <th>category</th>\n",
       "    </tr>\n",
       "  </thead>\n",
       "  <tbody>\n",
       "    <tr>\n",
       "      <th>0</th>\n",
       "      <td>Park Plaza County Hall</td>\n",
       "      <td>51.501400</td>\n",
       "      <td>-0.116300</td>\n",
       "      <td>conferences</td>\n",
       "    </tr>\n",
       "    <tr>\n",
       "      <th>1</th>\n",
       "      <td>DoubleTree by Hilton London Victoria</td>\n",
       "      <td>51.493930</td>\n",
       "      <td>-0.143302</td>\n",
       "      <td>conferences</td>\n",
       "    </tr>\n",
       "    <tr>\n",
       "      <th>2</th>\n",
       "      <td>Malmaison</td>\n",
       "      <td>51.520667</td>\n",
       "      <td>-0.100082</td>\n",
       "      <td>conferences</td>\n",
       "    </tr>\n",
       "    <tr>\n",
       "      <th>3</th>\n",
       "      <td>Wellcome Collection</td>\n",
       "      <td>51.525861</td>\n",
       "      <td>-0.133907</td>\n",
       "      <td>conferences</td>\n",
       "    </tr>\n",
       "    <tr>\n",
       "      <th>4</th>\n",
       "      <td>Wellcome Collection</td>\n",
       "      <td>51.525861</td>\n",
       "      <td>-0.133907</td>\n",
       "      <td>conferences</td>\n",
       "    </tr>\n",
       "  </tbody>\n",
       "</table>\n",
       "</div>"
      ],
      "text/plain": [
       "                                   name    latitud  longitud     category\n",
       "0                Park Plaza County Hall  51.501400 -0.116300  conferences\n",
       "1  DoubleTree by Hilton London Victoria  51.493930 -0.143302  conferences\n",
       "2                             Malmaison  51.520667 -0.100082  conferences\n",
       "3                   Wellcome Collection  51.525861 -0.133907  conferences\n",
       "4                   Wellcome Collection  51.525861 -0.133907  conferences"
      ]
     },
     "execution_count": 223,
     "metadata": {},
     "output_type": "execute_result"
    }
   ],
   "source": [
    "closest_conferences_london = pd.concat([df_Seatwave, df_ProcServe, df_Shutl, df_Autoquake, df_Schway], axis=0)\n",
    "closest_conferences_london = closest_conferences_london.reset_index(drop=True)\n",
    "closest_conferences_london.loc[:,'category'] = ['conferences', 'conferences', 'conferences', 'conferences', 'conferences']\n",
    "closest_conferences_london"
   ]
  },
  {
   "cell_type": "markdown",
   "metadata": {},
   "source": [
    "### API de Foursaquare developers --> ELEMENTARY SCHOOL"
   ]
  },
  {
   "cell_type": "code",
   "execution_count": 225,
   "metadata": {},
   "outputs": [],
   "source": [
    "enlace = \"https://api.foursquare.com/v2/venues/explore\"\n",
    "elementary_school = \"4f4533804b9074f6e4fb0105\""
   ]
  },
  {
   "cell_type": "code",
   "execution_count": 226,
   "metadata": {},
   "outputs": [],
   "source": [
    "df_Seatwave = get_closest(51.500152, -0.126236, \"4f4533804b9074f6e4fb0105\")"
   ]
  },
  {
   "cell_type": "code",
   "execution_count": 227,
   "metadata": {},
   "outputs": [],
   "source": [
    "df_ProcServe = get_closest(51.494067, -0.146665, \"4f4533804b9074f6e4fb0105\") "
   ]
  },
  {
   "cell_type": "code",
   "execution_count": 228,
   "metadata": {},
   "outputs": [],
   "source": [
    "df_Shutl = get_closest(51.519613, -0.102026, \"4f4533804b9074f6e4fb0105\") "
   ]
  },
  {
   "cell_type": "code",
   "execution_count": 229,
   "metadata": {},
   "outputs": [],
   "source": [
    "df_Autoquake = get_closest(51.543337, -0.172364, \"4f4533804b9074f6e4fb0105\")"
   ]
  },
  {
   "cell_type": "code",
   "execution_count": 230,
   "metadata": {},
   "outputs": [],
   "source": [
    "df_Schway = get_closest(51.519816, -0.136162, \"4f4533804b9074f6e4fb0105\")"
   ]
  },
  {
   "cell_type": "code",
   "execution_count": 231,
   "metadata": {},
   "outputs": [
    {
     "data": {
      "text/html": [
       "<div>\n",
       "<style scoped>\n",
       "    .dataframe tbody tr th:only-of-type {\n",
       "        vertical-align: middle;\n",
       "    }\n",
       "\n",
       "    .dataframe tbody tr th {\n",
       "        vertical-align: top;\n",
       "    }\n",
       "\n",
       "    .dataframe thead th {\n",
       "        text-align: right;\n",
       "    }\n",
       "</style>\n",
       "<table border=\"1\" class=\"dataframe\">\n",
       "  <thead>\n",
       "    <tr style=\"text-align: right;\">\n",
       "      <th></th>\n",
       "      <th>name</th>\n",
       "      <th>latitud</th>\n",
       "      <th>longitud</th>\n",
       "      <th>category</th>\n",
       "    </tr>\n",
       "  </thead>\n",
       "  <tbody>\n",
       "    <tr>\n",
       "      <th>0</th>\n",
       "      <td>Fairley House School</td>\n",
       "      <td>51.495202</td>\n",
       "      <td>-0.117444</td>\n",
       "      <td>school</td>\n",
       "    </tr>\n",
       "    <tr>\n",
       "      <th>1</th>\n",
       "      <td>St Peter's Eaton Square CE Primary</td>\n",
       "      <td>51.495949</td>\n",
       "      <td>-0.146568</td>\n",
       "      <td>school</td>\n",
       "    </tr>\n",
       "    <tr>\n",
       "      <th>2</th>\n",
       "      <td>Argyle School</td>\n",
       "      <td>51.528271</td>\n",
       "      <td>-0.124323</td>\n",
       "      <td>school</td>\n",
       "    </tr>\n",
       "    <tr>\n",
       "      <th>3</th>\n",
       "      <td>Hampstead Hill School</td>\n",
       "      <td>51.553483</td>\n",
       "      <td>-0.167996</td>\n",
       "      <td>school</td>\n",
       "    </tr>\n",
       "    <tr>\n",
       "      <th>4</th>\n",
       "      <td>Argyle School</td>\n",
       "      <td>51.528271</td>\n",
       "      <td>-0.124323</td>\n",
       "      <td>school</td>\n",
       "    </tr>\n",
       "  </tbody>\n",
       "</table>\n",
       "</div>"
      ],
      "text/plain": [
       "                                 name    latitud  longitud category\n",
       "0                Fairley House School  51.495202 -0.117444   school\n",
       "1  St Peter's Eaton Square CE Primary  51.495949 -0.146568   school\n",
       "2                       Argyle School  51.528271 -0.124323   school\n",
       "3               Hampstead Hill School  51.553483 -0.167996   school\n",
       "4                       Argyle School  51.528271 -0.124323   school"
      ]
     },
     "execution_count": 231,
     "metadata": {},
     "output_type": "execute_result"
    }
   ],
   "source": [
    "closest_school_london = pd.concat([df_Seatwave, df_ProcServe, df_Shutl, df_Autoquake, df_Schway], axis=0)\n",
    "closest_school_london = closest_school_london.reset_index(drop=True)\n",
    "closest_school_london.loc[:,'category'] = ['school', 'school', 'school', 'school', 'school']\n",
    "closest_school_london"
   ]
  },
  {
   "cell_type": "markdown",
   "metadata": {},
   "source": [
    "#### CONCATENAMOS NUESTRAS TABLAS PARA PODER EXPORTARLA Y DE AHI CREAR VISUALIZACIONES Y CONCLUSIONES"
   ]
  },
  {
   "cell_type": "code",
   "execution_count": 237,
   "metadata": {},
   "outputs": [
    {
     "data": {
      "text/html": [
       "<div>\n",
       "<style scoped>\n",
       "    .dataframe tbody tr th:only-of-type {\n",
       "        vertical-align: middle;\n",
       "    }\n",
       "\n",
       "    .dataframe tbody tr th {\n",
       "        vertical-align: top;\n",
       "    }\n",
       "\n",
       "    .dataframe thead th {\n",
       "        text-align: right;\n",
       "    }\n",
       "</style>\n",
       "<table border=\"1\" class=\"dataframe\">\n",
       "  <thead>\n",
       "    <tr style=\"text-align: right;\">\n",
       "      <th></th>\n",
       "      <th>name</th>\n",
       "      <th>latitud</th>\n",
       "      <th>longitud</th>\n",
       "      <th>category</th>\n",
       "    </tr>\n",
       "  </thead>\n",
       "  <tbody>\n",
       "    <tr>\n",
       "      <th>0</th>\n",
       "      <td>Seatwave</td>\n",
       "      <td>51.500152</td>\n",
       "      <td>-0.126236</td>\n",
       "      <td>company</td>\n",
       "    </tr>\n",
       "    <tr>\n",
       "      <th>1</th>\n",
       "      <td>ProcServe</td>\n",
       "      <td>51.494067</td>\n",
       "      <td>-0.146665</td>\n",
       "      <td>company</td>\n",
       "    </tr>\n",
       "    <tr>\n",
       "      <th>2</th>\n",
       "      <td>Shutl</td>\n",
       "      <td>51.519613</td>\n",
       "      <td>-0.102026</td>\n",
       "      <td>company</td>\n",
       "    </tr>\n",
       "    <tr>\n",
       "      <th>3</th>\n",
       "      <td>Autoquake</td>\n",
       "      <td>51.543337</td>\n",
       "      <td>-0.172364</td>\n",
       "      <td>company</td>\n",
       "    </tr>\n",
       "    <tr>\n",
       "      <th>4</th>\n",
       "      <td>Schway</td>\n",
       "      <td>51.519816</td>\n",
       "      <td>-0.136162</td>\n",
       "      <td>company</td>\n",
       "    </tr>\n",
       "    <tr>\n",
       "      <th>0</th>\n",
       "      <td>Strangers' Bar</td>\n",
       "      <td>51.499564</td>\n",
       "      <td>-0.123919</td>\n",
       "      <td>bars</td>\n",
       "    </tr>\n",
       "    <tr>\n",
       "      <th>1</th>\n",
       "      <td>The Goring Bar &amp; Lounge</td>\n",
       "      <td>51.497385</td>\n",
       "      <td>-0.145475</td>\n",
       "      <td>bars</td>\n",
       "    </tr>\n",
       "    <tr>\n",
       "      <th>2</th>\n",
       "      <td>Oriole</td>\n",
       "      <td>51.518904</td>\n",
       "      <td>-0.102672</td>\n",
       "      <td>bars</td>\n",
       "    </tr>\n",
       "    <tr>\n",
       "      <th>3</th>\n",
       "      <td>The Gallery</td>\n",
       "      <td>51.546509</td>\n",
       "      <td>-0.190200</td>\n",
       "      <td>bars</td>\n",
       "    </tr>\n",
       "    <tr>\n",
       "      <th>4</th>\n",
       "      <td>Bradley's Spanish Bar</td>\n",
       "      <td>51.516488</td>\n",
       "      <td>-0.132462</td>\n",
       "      <td>bars</td>\n",
       "    </tr>\n",
       "    <tr>\n",
       "      <th>0</th>\n",
       "      <td>Park Plaza County Hall</td>\n",
       "      <td>51.501400</td>\n",
       "      <td>-0.116300</td>\n",
       "      <td>conferences</td>\n",
       "    </tr>\n",
       "    <tr>\n",
       "      <th>1</th>\n",
       "      <td>DoubleTree by Hilton London Victoria</td>\n",
       "      <td>51.493930</td>\n",
       "      <td>-0.143302</td>\n",
       "      <td>conferences</td>\n",
       "    </tr>\n",
       "    <tr>\n",
       "      <th>2</th>\n",
       "      <td>Malmaison</td>\n",
       "      <td>51.520667</td>\n",
       "      <td>-0.100082</td>\n",
       "      <td>conferences</td>\n",
       "    </tr>\n",
       "    <tr>\n",
       "      <th>3</th>\n",
       "      <td>Wellcome Collection</td>\n",
       "      <td>51.525861</td>\n",
       "      <td>-0.133907</td>\n",
       "      <td>conferences</td>\n",
       "    </tr>\n",
       "    <tr>\n",
       "      <th>4</th>\n",
       "      <td>Wellcome Collection</td>\n",
       "      <td>51.525861</td>\n",
       "      <td>-0.133907</td>\n",
       "      <td>conferences</td>\n",
       "    </tr>\n",
       "    <tr>\n",
       "      <th>0</th>\n",
       "      <td>Fairley House School</td>\n",
       "      <td>51.495202</td>\n",
       "      <td>-0.117444</td>\n",
       "      <td>school</td>\n",
       "    </tr>\n",
       "    <tr>\n",
       "      <th>1</th>\n",
       "      <td>St Peter's Eaton Square CE Primary</td>\n",
       "      <td>51.495949</td>\n",
       "      <td>-0.146568</td>\n",
       "      <td>school</td>\n",
       "    </tr>\n",
       "    <tr>\n",
       "      <th>2</th>\n",
       "      <td>Argyle School</td>\n",
       "      <td>51.528271</td>\n",
       "      <td>-0.124323</td>\n",
       "      <td>school</td>\n",
       "    </tr>\n",
       "    <tr>\n",
       "      <th>3</th>\n",
       "      <td>Hampstead Hill School</td>\n",
       "      <td>51.553483</td>\n",
       "      <td>-0.167996</td>\n",
       "      <td>school</td>\n",
       "    </tr>\n",
       "    <tr>\n",
       "      <th>4</th>\n",
       "      <td>Argyle School</td>\n",
       "      <td>51.528271</td>\n",
       "      <td>-0.124323</td>\n",
       "      <td>school</td>\n",
       "    </tr>\n",
       "  </tbody>\n",
       "</table>\n",
       "</div>"
      ],
      "text/plain": [
       "                                   name    latitud  longitud     category\n",
       "0                              Seatwave  51.500152 -0.126236      company\n",
       "1                             ProcServe  51.494067 -0.146665      company\n",
       "2                                 Shutl  51.519613 -0.102026      company\n",
       "3                             Autoquake  51.543337 -0.172364      company\n",
       "4                                Schway  51.519816 -0.136162      company\n",
       "0                        Strangers' Bar  51.499564 -0.123919         bars\n",
       "1               The Goring Bar & Lounge  51.497385 -0.145475         bars\n",
       "2                                Oriole  51.518904 -0.102672         bars\n",
       "3                           The Gallery  51.546509 -0.190200         bars\n",
       "4                 Bradley's Spanish Bar  51.516488 -0.132462         bars\n",
       "0                Park Plaza County Hall  51.501400 -0.116300  conferences\n",
       "1  DoubleTree by Hilton London Victoria  51.493930 -0.143302  conferences\n",
       "2                             Malmaison  51.520667 -0.100082  conferences\n",
       "3                   Wellcome Collection  51.525861 -0.133907  conferences\n",
       "4                   Wellcome Collection  51.525861 -0.133907  conferences\n",
       "0                  Fairley House School  51.495202 -0.117444       school\n",
       "1    St Peter's Eaton Square CE Primary  51.495949 -0.146568       school\n",
       "2                         Argyle School  51.528271 -0.124323       school\n",
       "3                 Hampstead Hill School  51.553483 -0.167996       school\n",
       "4                         Argyle School  51.528271 -0.124323       school"
      ]
     },
     "execution_count": 237,
     "metadata": {},
     "output_type": "execute_result"
    }
   ],
   "source": [
    "condiciones_london = pd.concat([gdf_coodenadas_London, closest_bars_london, closest_conferences_london, closest_school_london], axis=0)\n",
    "condiciones_london = condiciones_london.drop(condiciones_london.columns[[0]], axis = 'columns')\n",
    "condiciones_london"
   ]
  },
  {
   "cell_type": "code",
   "execution_count": 240,
   "metadata": {},
   "outputs": [],
   "source": [
    "condiciones_london.to_csv('../output/condiciones_london.csv')"
   ]
  },
  {
   "cell_type": "markdown",
   "metadata": {},
   "source": [
    "#### LINKS UTILIZADOS PARA SACAR ESTA INFROMACION\n",
    "* La página web oficial de \"foursquare.developer\" --> https://developer.foursquare.com\n",
    "* La página web oficial de geocode --> https://geocode.xyz/\n",
    "* Coordenadas de Londres --> https://es.db-city.com/Reino-Unido--Londres\n",
    "    "
   ]
  }
 ],
 "metadata": {
  "kernelspec": {
   "display_name": "Python 3",
   "language": "python",
   "name": "python3"
  },
  "language_info": {
   "codemirror_mode": {
    "name": "ipython",
    "version": 3
   },
   "file_extension": ".py",
   "mimetype": "text/x-python",
   "name": "python",
   "nbconvert_exporter": "python",
   "pygments_lexer": "ipython3",
   "version": "3.8.3"
  }
 },
 "nbformat": 4,
 "nbformat_minor": 4
}
