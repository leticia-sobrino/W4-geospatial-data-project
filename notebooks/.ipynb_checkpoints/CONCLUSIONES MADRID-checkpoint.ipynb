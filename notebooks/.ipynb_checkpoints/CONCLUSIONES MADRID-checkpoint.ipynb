{
 "cells": [
  {
   "cell_type": "code",
   "execution_count": 9,
   "metadata": {},
   "outputs": [],
   "source": [
    "import folium\n",
    "from folium import Choropleth, Circle, Marker, Icon, Map\n",
    "from folium.plugins import HeatMap, MarkerCluster\n",
    "import geopandas as gpd"
   ]
  },
  {
   "cell_type": "markdown",
   "metadata": {},
   "source": [
    "## MADRID"
   ]
  },
  {
   "cell_type": "markdown",
   "metadata": {},
   "source": [
    "#### Coordenas de nuestras compañias"
   ]
  },
  {
   "cell_type": "code",
   "execution_count": 60,
   "metadata": {},
   "outputs": [
    {
     "data": {
      "text/html": [
       "<div>\n",
       "<style scoped>\n",
       "    .dataframe tbody tr th:only-of-type {\n",
       "        vertical-align: middle;\n",
       "    }\n",
       "\n",
       "    .dataframe tbody tr th {\n",
       "        vertical-align: top;\n",
       "    }\n",
       "\n",
       "    .dataframe thead th {\n",
       "        text-align: right;\n",
       "    }\n",
       "</style>\n",
       "<table border=\"1\" class=\"dataframe\">\n",
       "  <thead>\n",
       "    <tr style=\"text-align: right;\">\n",
       "      <th></th>\n",
       "      <th>Unnamed: 0</th>\n",
       "      <th>name</th>\n",
       "      <th>latitud</th>\n",
       "      <th>longitud</th>\n",
       "      <th>category</th>\n",
       "    </tr>\n",
       "  </thead>\n",
       "  <tbody>\n",
       "    <tr>\n",
       "      <th>0</th>\n",
       "      <td>0</td>\n",
       "      <td>Digital Assets Deployment</td>\n",
       "      <td>40.420460</td>\n",
       "      <td>-3.678121</td>\n",
       "      <td>company</td>\n",
       "    </tr>\n",
       "    <tr>\n",
       "      <th>1</th>\n",
       "      <td>1</td>\n",
       "      <td>Daily Flat Rental</td>\n",
       "      <td>40.412323</td>\n",
       "      <td>-3.703248</td>\n",
       "      <td>company</td>\n",
       "    </tr>\n",
       "    <tr>\n",
       "      <th>2</th>\n",
       "      <td>3</td>\n",
       "      <td>ticketea</td>\n",
       "      <td>40.445516</td>\n",
       "      <td>-3.706176</td>\n",
       "      <td>company</td>\n",
       "    </tr>\n",
       "    <tr>\n",
       "      <th>3</th>\n",
       "      <td>4</td>\n",
       "      <td>BuyVIP</td>\n",
       "      <td>40.416741</td>\n",
       "      <td>-3.703250</td>\n",
       "      <td>company</td>\n",
       "    </tr>\n",
       "  </tbody>\n",
       "</table>\n",
       "</div>"
      ],
      "text/plain": [
       "   Unnamed: 0                       name    latitud  longitud category\n",
       "0           0  Digital Assets Deployment  40.420460 -3.678121  company\n",
       "1           1          Daily Flat Rental  40.412323 -3.703248  company\n",
       "2           3                   ticketea  40.445516 -3.706176  company\n",
       "3           4                     BuyVIP  40.416741 -3.703250  company"
      ]
     },
     "execution_count": 60,
     "metadata": {},
     "output_type": "execute_result"
    }
   ],
   "source": [
    "gdf_coodenadas_Madrid = pd.read_csv('../output/Madrid_coordenadas_clean.csv')\n",
    "gdf_coodenadas_Madrid_fin = gdf_coodenadas_Madrid.drop(gdf_coodenadas_Madrid.columns[[4]], axis = 'columns').copy()\n",
    "gdf_coodenadas_Madrid_fin.loc[:,'category'] = ['company', 'company', 'company', 'company']\n",
    "\n",
    "gdf_coodenadas_Madrid_fin.rename(columns={'latitude': 'latitud', 'longitude': 'longitud'}, inplace=True)\n",
    "gdf_coodenadas_Madrid_fin"
   ]
  },
  {
   "cell_type": "markdown",
   "metadata": {},
   "source": [
    "#### Coordenadas de nuestras condiciones"
   ]
  },
  {
   "cell_type": "code",
   "execution_count": 91,
   "metadata": {},
   "outputs": [
    {
     "data": {
      "text/html": [
       "<div>\n",
       "<style scoped>\n",
       "    .dataframe tbody tr th:only-of-type {\n",
       "        vertical-align: middle;\n",
       "    }\n",
       "\n",
       "    .dataframe tbody tr th {\n",
       "        vertical-align: top;\n",
       "    }\n",
       "\n",
       "    .dataframe thead th {\n",
       "        text-align: right;\n",
       "    }\n",
       "</style>\n",
       "<table border=\"1\" class=\"dataframe\">\n",
       "  <thead>\n",
       "    <tr style=\"text-align: right;\">\n",
       "      <th></th>\n",
       "      <th>Unnamed: 0</th>\n",
       "      <th>name</th>\n",
       "      <th>latitud</th>\n",
       "      <th>longitud</th>\n",
       "      <th>category</th>\n",
       "    </tr>\n",
       "  </thead>\n",
       "  <tbody>\n",
       "    <tr>\n",
       "      <th>0</th>\n",
       "      <td>0</td>\n",
       "      <td>La Castela</td>\n",
       "      <td>40.420435</td>\n",
       "      <td>-3.676564</td>\n",
       "      <td>bars</td>\n",
       "    </tr>\n",
       "    <tr>\n",
       "      <th>1</th>\n",
       "      <td>1</td>\n",
       "      <td>Madrid cerrajeros</td>\n",
       "      <td>40.416553</td>\n",
       "      <td>-3.703803</td>\n",
       "      <td>bars</td>\n",
       "    </tr>\n",
       "    <tr>\n",
       "      <th>2</th>\n",
       "      <td>2</td>\n",
       "      <td>REEDIFIC</td>\n",
       "      <td>40.446784</td>\n",
       "      <td>-3.703803</td>\n",
       "      <td>bars</td>\n",
       "    </tr>\n",
       "    <tr>\n",
       "      <th>3</th>\n",
       "      <td>3</td>\n",
       "      <td>Madrid cerrajeros</td>\n",
       "      <td>40.416553</td>\n",
       "      <td>-3.703803</td>\n",
       "      <td>bars</td>\n",
       "    </tr>\n",
       "  </tbody>\n",
       "</table>\n",
       "</div>"
      ],
      "text/plain": [
       "   Unnamed: 0               name    latitud  longitud category\n",
       "0           0         La Castela  40.420435 -3.676564     bars\n",
       "1           1  Madrid cerrajeros  40.416553 -3.703803     bars\n",
       "2           2           REEDIFIC  40.446784 -3.703803     bars\n",
       "3           3  Madrid cerrajeros  40.416553 -3.703803     bars"
      ]
     },
     "execution_count": 91,
     "metadata": {},
     "output_type": "execute_result"
    }
   ],
   "source": [
    "## BARES\n",
    "closest_bars_to_my_companies = pd.read_csv('../output/closest_bars_to_my_companies.csv')\n",
    "closest_bars_to_my_companies"
   ]
  },
  {
   "cell_type": "code",
   "execution_count": 67,
   "metadata": {},
   "outputs": [
    {
     "data": {
      "text/html": [
       "<div>\n",
       "<style scoped>\n",
       "    .dataframe tbody tr th:only-of-type {\n",
       "        vertical-align: middle;\n",
       "    }\n",
       "\n",
       "    .dataframe tbody tr th {\n",
       "        vertical-align: top;\n",
       "    }\n",
       "\n",
       "    .dataframe thead th {\n",
       "        text-align: right;\n",
       "    }\n",
       "</style>\n",
       "<table border=\"1\" class=\"dataframe\">\n",
       "  <thead>\n",
       "    <tr style=\"text-align: right;\">\n",
       "      <th></th>\n",
       "      <th>Unnamed: 0</th>\n",
       "      <th>name</th>\n",
       "      <th>latitud</th>\n",
       "      <th>longitud</th>\n",
       "      <th>category</th>\n",
       "    </tr>\n",
       "  </thead>\n",
       "  <tbody>\n",
       "    <tr>\n",
       "      <th>0</th>\n",
       "      <td>0</td>\n",
       "      <td>Elzalburu</td>\n",
       "      <td>40.436095</td>\n",
       "      <td>-3.691326</td>\n",
       "      <td>conference</td>\n",
       "    </tr>\n",
       "    <tr>\n",
       "      <th>1</th>\n",
       "      <td>1</td>\n",
       "      <td>hokena rung</td>\n",
       "      <td>40.411633</td>\n",
       "      <td>-3.707981</td>\n",
       "      <td>conference</td>\n",
       "    </tr>\n",
       "    <tr>\n",
       "      <th>2</th>\n",
       "      <td>2</td>\n",
       "      <td>Espacio Efímeral</td>\n",
       "      <td>40.453630</td>\n",
       "      <td>-3.704104</td>\n",
       "      <td>conference</td>\n",
       "    </tr>\n",
       "    <tr>\n",
       "      <th>3</th>\n",
       "      <td>3</td>\n",
       "      <td>hokena rung</td>\n",
       "      <td>40.411633</td>\n",
       "      <td>-3.707981</td>\n",
       "      <td>conference</td>\n",
       "    </tr>\n",
       "  </tbody>\n",
       "</table>\n",
       "</div>"
      ],
      "text/plain": [
       "   Unnamed: 0              name    latitud  longitud    category\n",
       "0           0         Elzalburu  40.436095 -3.691326  conference\n",
       "1           1       hokena rung  40.411633 -3.707981  conference\n",
       "2           2  Espacio Efímeral  40.453630 -3.704104  conference\n",
       "3           3       hokena rung  40.411633 -3.707981  conference"
      ]
     },
     "execution_count": 67,
     "metadata": {},
     "output_type": "execute_result"
    }
   ],
   "source": [
    "# CONFERENCES\n",
    "closest_conferences_to_my_companies = pd.read_csv('../output/coordenadas_conferences.csv')\n",
    "closest_conferences_to_my_companies"
   ]
  },
  {
   "cell_type": "code",
   "execution_count": 22,
   "metadata": {
    "scrolled": true
   },
   "outputs": [
    {
     "data": {
      "text/html": [
       "<div>\n",
       "<style scoped>\n",
       "    .dataframe tbody tr th:only-of-type {\n",
       "        vertical-align: middle;\n",
       "    }\n",
       "\n",
       "    .dataframe tbody tr th {\n",
       "        vertical-align: top;\n",
       "    }\n",
       "\n",
       "    .dataframe thead th {\n",
       "        text-align: right;\n",
       "    }\n",
       "</style>\n",
       "<table border=\"1\" class=\"dataframe\">\n",
       "  <thead>\n",
       "    <tr style=\"text-align: right;\">\n",
       "      <th></th>\n",
       "      <th>Unnamed: 0</th>\n",
       "      <th>name</th>\n",
       "      <th>latitud</th>\n",
       "      <th>longitud</th>\n",
       "      <th>category</th>\n",
       "    </tr>\n",
       "  </thead>\n",
       "  <tbody>\n",
       "    <tr>\n",
       "      <th>0</th>\n",
       "      <td>0</td>\n",
       "      <td>Nuestra Señora De La Almudena</td>\n",
       "      <td>40.419158</td>\n",
       "      <td>-3.677935</td>\n",
       "      <td>school</td>\n",
       "    </tr>\n",
       "    <tr>\n",
       "      <th>1</th>\n",
       "      <td>1</td>\n",
       "      <td>CEIP Isabel la Catolica</td>\n",
       "      <td>40.426336</td>\n",
       "      <td>-3.699751</td>\n",
       "      <td>school</td>\n",
       "    </tr>\n",
       "    <tr>\n",
       "      <th>2</th>\n",
       "      <td>2</td>\n",
       "      <td>Centro educativo Maria Inmaculada Fuencarral</td>\n",
       "      <td>40.427867</td>\n",
       "      <td>-3.703431</td>\n",
       "      <td>school</td>\n",
       "    </tr>\n",
       "    <tr>\n",
       "      <th>3</th>\n",
       "      <td>3</td>\n",
       "      <td>CEIP Isabel la Catolica</td>\n",
       "      <td>40.426336</td>\n",
       "      <td>-3.699751</td>\n",
       "      <td>school</td>\n",
       "    </tr>\n",
       "  </tbody>\n",
       "</table>\n",
       "</div>"
      ],
      "text/plain": [
       "   Unnamed: 0                                          name    latitud  \\\n",
       "0           0                 Nuestra Señora De La Almudena  40.419158   \n",
       "1           1                       CEIP Isabel la Catolica  40.426336   \n",
       "2           2  Centro educativo Maria Inmaculada Fuencarral  40.427867   \n",
       "3           3                       CEIP Isabel la Catolica  40.426336   \n",
       "\n",
       "   longitud category  \n",
       "0 -3.677935   school  \n",
       "1 -3.699751   school  \n",
       "2 -3.703431   school  \n",
       "3 -3.699751   school  "
      ]
     },
     "execution_count": 22,
     "metadata": {},
     "output_type": "execute_result"
    }
   ],
   "source": [
    "# SCHOOLS\n",
    "closest_school_to_my_companies = pd.read_csv('../output/coordenadas_schools.csv')\n",
    "closest_school_to_my_companies"
   ]
  },
  {
   "cell_type": "markdown",
   "metadata": {},
   "source": [
    "#### DF FINAL PARA PODER PINTAR NUESTRO MAPA"
   ]
  },
  {
   "cell_type": "code",
   "execution_count": 92,
   "metadata": {
    "scrolled": true
   },
   "outputs": [
    {
     "data": {
      "text/html": [
       "<div>\n",
       "<style scoped>\n",
       "    .dataframe tbody tr th:only-of-type {\n",
       "        vertical-align: middle;\n",
       "    }\n",
       "\n",
       "    .dataframe tbody tr th {\n",
       "        vertical-align: top;\n",
       "    }\n",
       "\n",
       "    .dataframe thead th {\n",
       "        text-align: right;\n",
       "    }\n",
       "</style>\n",
       "<table border=\"1\" class=\"dataframe\">\n",
       "  <thead>\n",
       "    <tr style=\"text-align: right;\">\n",
       "      <th></th>\n",
       "      <th>Unnamed: 0</th>\n",
       "      <th>name</th>\n",
       "      <th>latitud</th>\n",
       "      <th>longitud</th>\n",
       "      <th>category</th>\n",
       "    </tr>\n",
       "  </thead>\n",
       "  <tbody>\n",
       "    <tr>\n",
       "      <th>0</th>\n",
       "      <td>0</td>\n",
       "      <td>Digital Assets Deployment</td>\n",
       "      <td>40.420460</td>\n",
       "      <td>-3.678121</td>\n",
       "      <td>company</td>\n",
       "    </tr>\n",
       "    <tr>\n",
       "      <th>1</th>\n",
       "      <td>1</td>\n",
       "      <td>Daily Flat Rental</td>\n",
       "      <td>40.412323</td>\n",
       "      <td>-3.703248</td>\n",
       "      <td>company</td>\n",
       "    </tr>\n",
       "    <tr>\n",
       "      <th>2</th>\n",
       "      <td>3</td>\n",
       "      <td>ticketea</td>\n",
       "      <td>40.445516</td>\n",
       "      <td>-3.706176</td>\n",
       "      <td>company</td>\n",
       "    </tr>\n",
       "    <tr>\n",
       "      <th>3</th>\n",
       "      <td>4</td>\n",
       "      <td>BuyVIP</td>\n",
       "      <td>40.416741</td>\n",
       "      <td>-3.703250</td>\n",
       "      <td>company</td>\n",
       "    </tr>\n",
       "    <tr>\n",
       "      <th>0</th>\n",
       "      <td>0</td>\n",
       "      <td>La Castela</td>\n",
       "      <td>40.420435</td>\n",
       "      <td>-3.676564</td>\n",
       "      <td>bars</td>\n",
       "    </tr>\n",
       "    <tr>\n",
       "      <th>1</th>\n",
       "      <td>1</td>\n",
       "      <td>Madrid cerrajeros</td>\n",
       "      <td>40.416553</td>\n",
       "      <td>-3.703803</td>\n",
       "      <td>bars</td>\n",
       "    </tr>\n",
       "    <tr>\n",
       "      <th>2</th>\n",
       "      <td>2</td>\n",
       "      <td>REEDIFIC</td>\n",
       "      <td>40.446784</td>\n",
       "      <td>-3.703803</td>\n",
       "      <td>bars</td>\n",
       "    </tr>\n",
       "    <tr>\n",
       "      <th>3</th>\n",
       "      <td>3</td>\n",
       "      <td>Madrid cerrajeros</td>\n",
       "      <td>40.416553</td>\n",
       "      <td>-3.703803</td>\n",
       "      <td>bars</td>\n",
       "    </tr>\n",
       "    <tr>\n",
       "      <th>0</th>\n",
       "      <td>0</td>\n",
       "      <td>Elzalburu</td>\n",
       "      <td>40.436095</td>\n",
       "      <td>-3.691326</td>\n",
       "      <td>conference</td>\n",
       "    </tr>\n",
       "    <tr>\n",
       "      <th>1</th>\n",
       "      <td>1</td>\n",
       "      <td>hokena rung</td>\n",
       "      <td>40.411633</td>\n",
       "      <td>-3.707981</td>\n",
       "      <td>conference</td>\n",
       "    </tr>\n",
       "    <tr>\n",
       "      <th>2</th>\n",
       "      <td>2</td>\n",
       "      <td>Espacio Efímeral</td>\n",
       "      <td>40.453630</td>\n",
       "      <td>-3.704104</td>\n",
       "      <td>conference</td>\n",
       "    </tr>\n",
       "    <tr>\n",
       "      <th>3</th>\n",
       "      <td>3</td>\n",
       "      <td>hokena rung</td>\n",
       "      <td>40.411633</td>\n",
       "      <td>-3.707981</td>\n",
       "      <td>conference</td>\n",
       "    </tr>\n",
       "    <tr>\n",
       "      <th>0</th>\n",
       "      <td>0</td>\n",
       "      <td>Nuestra Señora De La Almudena</td>\n",
       "      <td>40.419158</td>\n",
       "      <td>-3.677935</td>\n",
       "      <td>school</td>\n",
       "    </tr>\n",
       "    <tr>\n",
       "      <th>1</th>\n",
       "      <td>1</td>\n",
       "      <td>CEIP Isabel la Catolica</td>\n",
       "      <td>40.426336</td>\n",
       "      <td>-3.699751</td>\n",
       "      <td>school</td>\n",
       "    </tr>\n",
       "    <tr>\n",
       "      <th>2</th>\n",
       "      <td>2</td>\n",
       "      <td>Centro educativo Maria Inmaculada Fuencarral</td>\n",
       "      <td>40.427867</td>\n",
       "      <td>-3.703431</td>\n",
       "      <td>school</td>\n",
       "    </tr>\n",
       "    <tr>\n",
       "      <th>3</th>\n",
       "      <td>3</td>\n",
       "      <td>CEIP Isabel la Catolica</td>\n",
       "      <td>40.426336</td>\n",
       "      <td>-3.699751</td>\n",
       "      <td>school</td>\n",
       "    </tr>\n",
       "  </tbody>\n",
       "</table>\n",
       "</div>"
      ],
      "text/plain": [
       "   Unnamed: 0                                          name    latitud  \\\n",
       "0           0                     Digital Assets Deployment  40.420460   \n",
       "1           1                             Daily Flat Rental  40.412323   \n",
       "2           3                                      ticketea  40.445516   \n",
       "3           4                                        BuyVIP  40.416741   \n",
       "0           0                                    La Castela  40.420435   \n",
       "1           1                             Madrid cerrajeros  40.416553   \n",
       "2           2                                      REEDIFIC  40.446784   \n",
       "3           3                             Madrid cerrajeros  40.416553   \n",
       "0           0                                     Elzalburu  40.436095   \n",
       "1           1                                   hokena rung  40.411633   \n",
       "2           2                              Espacio Efímeral  40.453630   \n",
       "3           3                                   hokena rung  40.411633   \n",
       "0           0                 Nuestra Señora De La Almudena  40.419158   \n",
       "1           1                       CEIP Isabel la Catolica  40.426336   \n",
       "2           2  Centro educativo Maria Inmaculada Fuencarral  40.427867   \n",
       "3           3                       CEIP Isabel la Catolica  40.426336   \n",
       "\n",
       "   longitud    category  \n",
       "0 -3.678121     company  \n",
       "1 -3.703248     company  \n",
       "2 -3.706176     company  \n",
       "3 -3.703250     company  \n",
       "0 -3.676564        bars  \n",
       "1 -3.703803        bars  \n",
       "2 -3.703803        bars  \n",
       "3 -3.703803        bars  \n",
       "0 -3.691326  conference  \n",
       "1 -3.707981  conference  \n",
       "2 -3.704104  conference  \n",
       "3 -3.707981  conference  \n",
       "0 -3.677935      school  \n",
       "1 -3.699751      school  \n",
       "2 -3.703431      school  \n",
       "3 -3.699751      school  "
      ]
     },
     "execution_count": 92,
     "metadata": {},
     "output_type": "execute_result"
    }
   ],
   "source": [
    "df_condiciones = pd.concat([gdf_coodenadas_Madrid_fin, closest_bars_to_my_companies, closest_conferences_to_my_companies, closest_school_to_my_companies], axis=0)\n",
    "df_condiciones"
   ]
  },
  {
   "cell_type": "code",
   "execution_count": 94,
   "metadata": {},
   "outputs": [],
   "source": [
    "map_madrid = Map(location= [40.42955,  -3.6793], zoom_start = 15)\n"
   ]
  },
  {
   "cell_type": "code",
   "execution_count": 97,
   "metadata": {
    "scrolled": false
   },
   "outputs": [
    {
     "data": {
      "text/html": [
       "<div style=\"width:100%;\"><div style=\"position:relative;width:100%;height:0;padding-bottom:60%;\"><span style=\"color:#565656\">Make this Notebook Trusted to load map: File -> Trust Notebook</span><iframe src=\"about:blank\" style=\"position:absolute;width:100%;height:100%;left:0;top:0;border:none !important;\" data-html=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 onload=\"this.contentDocument.open();this.contentDocument.write(atob(this.getAttribute('data-html')));this.contentDocument.close();\" allowfullscreen webkitallowfullscreen mozallowfullscreen></iframe></div></div>"
      ],
      "text/plain": [
       "<folium.folium.Map at 0x178b7196310>"
      ]
     },
     "execution_count": 97,
     "metadata": {},
     "output_type": "execute_result"
    }
   ],
   "source": [
    "for i,row in df_condiciones.iterrows():\n",
    "    distrito = {\n",
    "        \"location\" : [row[\"latitud\"], row[\"longitud\"]],\n",
    "        \"tooltip\" : row[\"name\"]\n",
    "    }\n",
    "    \n",
    "    if row[\"category\"] == \"bars\":\n",
    "        icon = Icon( color = \"green\",\n",
    "                    prefix = \"fa\",\n",
    "                    icon = \"glass\",\n",
    "                    icon_color = \"white\"\n",
    "        )\n",
    "    elif row[\"category\"] == \"conference\":\n",
    "        icon = Icon( color = \"blue\",\n",
    "                    prefix = \"fa\",\n",
    "                    icon = \"briefcase\",\n",
    "                    icon_color = \"white\"\n",
    "        )\n",
    "    elif row[\"category\"] == \"school\":\n",
    "        icon = Icon( color = \"orange\",\n",
    "                    prefix = \"fa\",\n",
    "                    icon = \"fa-graduation-cap\",\n",
    "                    icon_color = \"white\"\n",
    "        )\n",
    "    else:\n",
    "        icon = Icon( color = \"red\",\n",
    "                    prefix = \"fa\",\n",
    "                    icon = \"fa-building-o\",\n",
    "                    icon_color = \"black\" )\n",
    "    Marker (**distrito,icon = icon).add_to(map_madrid)\n",
    "map_madrid"
   ]
  },
  {
   "cell_type": "code",
   "execution_count": 96,
   "metadata": {},
   "outputs": [],
   "source": [
    "map_madrid.save('../input/mapa_madrid_condiciones')"
   ]
  },
  {
   "cell_type": "markdown",
   "metadata": {},
   "source": [
    "### CALCULO DE LAS DISTANCIAS ENTRE NUESTRAS COORDENADAS"
   ]
  },
  {
   "cell_type": "markdown",
   "metadata": {},
   "source": [
    "#### En este momento ya hemos decidido entre dos diferentes ubicaciones:\n",
    "* Al lado de la empresa: Digital Assets Deployment\n",
    "* o de la empresa: Daily Flat Rental\n",
    "\n",
    "#### Estas dos empresas son las que más encajan con nuestras condiciones pero para ser un buen analista vamos a sacar distacias que hay entre:\n",
    "* La empresa Digital Assets Deployment y el colegio Nuesra Señora de la Almudena y el bar La castela\n",
    "* Y la empresa Daily Flat rental con el bar El Rincón del Cabo y la conferencia hokena rung\n",
    "\n",
    "#### De esta manera nuestras estadísticas serán más aproximadas y por tanto nuestro margen de error será menor"
   ]
  },
  {
   "cell_type": "code",
   "execution_count": 71,
   "metadata": {},
   "outputs": [],
   "source": [
    "import math"
   ]
  },
  {
   "cell_type": "code",
   "execution_count": 72,
   "metadata": {},
   "outputs": [],
   "source": [
    "def haversine(coord1, coord2):\n",
    "    R = 6372800  # Earth radius in meters\n",
    "    lat1, lon1 = coord1\n",
    "    lat2, lon2 = coord2\n",
    "    \n",
    "    phi1, phi2 = math.radians(lat1), math.radians(lat2) \n",
    "    dphi       = math.radians(lat2 - lat1)\n",
    "    dlambda    = math.radians(lon2 - lon1)\n",
    "    \n",
    "    a = math.sin(dphi/2)**2 + \\\n",
    "        math.cos(phi1)*math.cos(phi2)*math.sin(dlambda/2)**2\n",
    "    \n",
    "    return 2*R*math.atan2(math.sqrt(a), math.sqrt(1 - a))"
   ]
  },
  {
   "cell_type": "code",
   "execution_count": 77,
   "metadata": {},
   "outputs": [
    {
     "name": "stdout",
     "output_type": "stream",
     "text": [
      "La Castela 131.87201413963822\n",
      "Nuestra Señora De La Almudena 145.67066642632273\n"
     ]
    }
   ],
   "source": [
    "Digital_Assets_Deployment_coord = 40.420460, -3.678121\n",
    "condiciones = {\n",
    "    'La Castela': (40.420435, -3.676564),\n",
    "    'Nuestra Señora De La Almudena': (40.419158, -3.677935)\n",
    "\n",
    "}\n",
    "\n",
    "\n",
    "for cond, coord in condiciones.items():\n",
    "    distance = haversine(Digital_Assets_Deployment_coord, coord)\n",
    "    print(cond, distance)"
   ]
  },
  {
   "cell_type": "code",
   "execution_count": 78,
   "metadata": {},
   "outputs": [
    {
     "name": "stdout",
     "output_type": "stream",
     "text": [
      "El Rincón del Cabo 2326.240283198325\n",
      "hokena rung 2712.54532542554\n"
     ]
    }
   ],
   "source": [
    "Daily_Flat_Rental = 40.412323, -3.703248\n",
    "condiciones = {\n",
    "    'El Rincón del Cabo': (40.411716, -3.703075),\n",
    "    'hokena rung': (40.411633, -3.707981)\n",
    "}\n",
    "\n",
    "for cond, coord in condiciones.items():\n",
    "    distance = haversine(Digital_Assets_Deployment_coord, coord)\n",
    "    print(cond, distance)"
   ]
  },
  {
   "cell_type": "markdown",
   "metadata": {},
   "source": [
    "#### CONCLUSIONES\n",
    "* Como podemos observar, las distancias de la empresa Digital Assets Deployment con nuestras conciones son mucho menores y por ello nos quedaremos ahi \n",
    "* Por tanto nuestra ubicacion en el mapa de Madrid de nuestra empresa tendrá las siguientes coordenadas:\n",
    "    - Latitud: 40.420460 \n",
    "    - Longitud: -3.678121"
   ]
  },
  {
   "cell_type": "code",
   "execution_count": 82,
   "metadata": {},
   "outputs": [],
   "source": [
    "map_1 = folium.Map(location = [40.420460, -3.678121], zoom_start = 15)"
   ]
  },
  {
   "cell_type": "code",
   "execution_count": 83,
   "metadata": {
    "scrolled": true
   },
   "outputs": [
    {
     "data": {
      "text/html": [
       "<div style=\"width:100%;\"><div style=\"position:relative;width:100%;height:0;padding-bottom:60%;\"><span style=\"color:#565656\">Make this Notebook Trusted to load map: File -> Trust Notebook</span><iframe src=\"about:blank\" style=\"position:absolute;width:100%;height:100%;left:0;top:0;border:none !important;\" data-html=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 onload=\"this.contentDocument.open();this.contentDocument.write(atob(this.getAttribute('data-html')));this.contentDocument.close();\" allowfullscreen webkitallowfullscreen mozallowfullscreen></iframe></div></div>"
      ],
      "text/plain": [
       "<folium.folium.Map at 0x178b71d87c0>"
      ]
     },
     "execution_count": 83,
     "metadata": {},
     "output_type": "execute_result"
    }
   ],
   "source": [
    "Mi_empresa = Marker(location=[40.420460, -3.678121], tooltip = \"Mi empresa\")\n",
    "Mi_empresa.add_to(map_1)\n",
    "map_1"
   ]
  },
  {
   "cell_type": "code",
   "execution_count": 93,
   "metadata": {},
   "outputs": [],
   "source": [
    "map_1.save('../input/mapa_opcion_madrid')"
   ]
  }
 ],
 "metadata": {
  "kernelspec": {
   "display_name": "Python 3",
   "language": "python",
   "name": "python3"
  },
  "language_info": {
   "codemirror_mode": {
    "name": "ipython",
    "version": 3
   },
   "file_extension": ".py",
   "mimetype": "text/x-python",
   "name": "python",
   "nbconvert_exporter": "python",
   "pygments_lexer": "ipython3",
   "version": "3.8.3"
  }
 },
 "nbformat": 4,
 "nbformat_minor": 4
}
