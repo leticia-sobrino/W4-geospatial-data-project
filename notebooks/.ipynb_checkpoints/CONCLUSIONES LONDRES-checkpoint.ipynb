{
 "cells": [
  {
   "cell_type": "code",
   "execution_count": 4,
   "metadata": {},
   "outputs": [],
   "source": [
    "import folium\n",
    "from folium import Choropleth, Circle, Marker, Icon, Map\n",
    "from folium.plugins import HeatMap, MarkerCluster\n",
    "import geopandas as gpd\n",
    "import pandas as pd"
   ]
  },
  {
   "cell_type": "markdown",
   "metadata": {},
   "source": [
    "## LONDON"
   ]
  },
  {
   "cell_type": "code",
   "execution_count": 6,
   "metadata": {},
   "outputs": [
    {
     "data": {
      "text/html": [
       "<div>\n",
       "<style scoped>\n",
       "    .dataframe tbody tr th:only-of-type {\n",
       "        vertical-align: middle;\n",
       "    }\n",
       "\n",
       "    .dataframe tbody tr th {\n",
       "        vertical-align: top;\n",
       "    }\n",
       "\n",
       "    .dataframe thead th {\n",
       "        text-align: right;\n",
       "    }\n",
       "</style>\n",
       "<table border=\"1\" class=\"dataframe\">\n",
       "  <thead>\n",
       "    <tr style=\"text-align: right;\">\n",
       "      <th></th>\n",
       "      <th>Unnamed: 0</th>\n",
       "      <th>name</th>\n",
       "      <th>latitud</th>\n",
       "      <th>longitud</th>\n",
       "      <th>category</th>\n",
       "    </tr>\n",
       "  </thead>\n",
       "  <tbody>\n",
       "    <tr>\n",
       "      <th>0</th>\n",
       "      <td>0</td>\n",
       "      <td>Seatwave</td>\n",
       "      <td>51.500152</td>\n",
       "      <td>-0.126236</td>\n",
       "      <td>company</td>\n",
       "    </tr>\n",
       "    <tr>\n",
       "      <th>1</th>\n",
       "      <td>1</td>\n",
       "      <td>ProcServe</td>\n",
       "      <td>51.494067</td>\n",
       "      <td>-0.146665</td>\n",
       "      <td>company</td>\n",
       "    </tr>\n",
       "    <tr>\n",
       "      <th>2</th>\n",
       "      <td>2</td>\n",
       "      <td>Shutl</td>\n",
       "      <td>51.519613</td>\n",
       "      <td>-0.102027</td>\n",
       "      <td>company</td>\n",
       "    </tr>\n",
       "    <tr>\n",
       "      <th>3</th>\n",
       "      <td>3</td>\n",
       "      <td>Autoquake</td>\n",
       "      <td>51.543337</td>\n",
       "      <td>-0.172364</td>\n",
       "      <td>company</td>\n",
       "    </tr>\n",
       "    <tr>\n",
       "      <th>4</th>\n",
       "      <td>4</td>\n",
       "      <td>Schway</td>\n",
       "      <td>51.519816</td>\n",
       "      <td>-0.136162</td>\n",
       "      <td>company</td>\n",
       "    </tr>\n",
       "    <tr>\n",
       "      <th>5</th>\n",
       "      <td>0</td>\n",
       "      <td>Strangers' Bar</td>\n",
       "      <td>51.499564</td>\n",
       "      <td>-0.123919</td>\n",
       "      <td>bars</td>\n",
       "    </tr>\n",
       "    <tr>\n",
       "      <th>6</th>\n",
       "      <td>1</td>\n",
       "      <td>The Goring Bar &amp; Lounge</td>\n",
       "      <td>51.497385</td>\n",
       "      <td>-0.145475</td>\n",
       "      <td>bars</td>\n",
       "    </tr>\n",
       "    <tr>\n",
       "      <th>7</th>\n",
       "      <td>2</td>\n",
       "      <td>Oriole</td>\n",
       "      <td>51.518904</td>\n",
       "      <td>-0.102672</td>\n",
       "      <td>bars</td>\n",
       "    </tr>\n",
       "    <tr>\n",
       "      <th>8</th>\n",
       "      <td>3</td>\n",
       "      <td>The Gallery</td>\n",
       "      <td>51.546509</td>\n",
       "      <td>-0.190200</td>\n",
       "      <td>bars</td>\n",
       "    </tr>\n",
       "    <tr>\n",
       "      <th>9</th>\n",
       "      <td>4</td>\n",
       "      <td>Bradley's Spanish Bar</td>\n",
       "      <td>51.516488</td>\n",
       "      <td>-0.132462</td>\n",
       "      <td>bars</td>\n",
       "    </tr>\n",
       "    <tr>\n",
       "      <th>10</th>\n",
       "      <td>0</td>\n",
       "      <td>Park Plaza County Hall</td>\n",
       "      <td>51.501400</td>\n",
       "      <td>-0.116300</td>\n",
       "      <td>conferences</td>\n",
       "    </tr>\n",
       "    <tr>\n",
       "      <th>11</th>\n",
       "      <td>1</td>\n",
       "      <td>DoubleTree by Hilton London Victoria</td>\n",
       "      <td>51.493930</td>\n",
       "      <td>-0.143302</td>\n",
       "      <td>conferences</td>\n",
       "    </tr>\n",
       "    <tr>\n",
       "      <th>12</th>\n",
       "      <td>2</td>\n",
       "      <td>Malmaison</td>\n",
       "      <td>51.520667</td>\n",
       "      <td>-0.100082</td>\n",
       "      <td>conferences</td>\n",
       "    </tr>\n",
       "    <tr>\n",
       "      <th>13</th>\n",
       "      <td>3</td>\n",
       "      <td>Wellcome Collection</td>\n",
       "      <td>51.525861</td>\n",
       "      <td>-0.133907</td>\n",
       "      <td>conferences</td>\n",
       "    </tr>\n",
       "    <tr>\n",
       "      <th>14</th>\n",
       "      <td>4</td>\n",
       "      <td>Wellcome Collection</td>\n",
       "      <td>51.525861</td>\n",
       "      <td>-0.133907</td>\n",
       "      <td>conferences</td>\n",
       "    </tr>\n",
       "    <tr>\n",
       "      <th>15</th>\n",
       "      <td>0</td>\n",
       "      <td>Fairley House School</td>\n",
       "      <td>51.495202</td>\n",
       "      <td>-0.117444</td>\n",
       "      <td>school</td>\n",
       "    </tr>\n",
       "    <tr>\n",
       "      <th>16</th>\n",
       "      <td>1</td>\n",
       "      <td>St Peter's Eaton Square CE Primary</td>\n",
       "      <td>51.495949</td>\n",
       "      <td>-0.146568</td>\n",
       "      <td>school</td>\n",
       "    </tr>\n",
       "    <tr>\n",
       "      <th>17</th>\n",
       "      <td>2</td>\n",
       "      <td>Argyle School</td>\n",
       "      <td>51.528271</td>\n",
       "      <td>-0.124323</td>\n",
       "      <td>school</td>\n",
       "    </tr>\n",
       "    <tr>\n",
       "      <th>18</th>\n",
       "      <td>3</td>\n",
       "      <td>Hampstead Hill School</td>\n",
       "      <td>51.553483</td>\n",
       "      <td>-0.167996</td>\n",
       "      <td>school</td>\n",
       "    </tr>\n",
       "    <tr>\n",
       "      <th>19</th>\n",
       "      <td>4</td>\n",
       "      <td>Argyle School</td>\n",
       "      <td>51.528271</td>\n",
       "      <td>-0.124323</td>\n",
       "      <td>school</td>\n",
       "    </tr>\n",
       "  </tbody>\n",
       "</table>\n",
       "</div>"
      ],
      "text/plain": [
       "    Unnamed: 0                                  name    latitud  longitud  \\\n",
       "0            0                              Seatwave  51.500152 -0.126236   \n",
       "1            1                             ProcServe  51.494067 -0.146665   \n",
       "2            2                                 Shutl  51.519613 -0.102027   \n",
       "3            3                             Autoquake  51.543337 -0.172364   \n",
       "4            4                                Schway  51.519816 -0.136162   \n",
       "5            0                        Strangers' Bar  51.499564 -0.123919   \n",
       "6            1               The Goring Bar & Lounge  51.497385 -0.145475   \n",
       "7            2                                Oriole  51.518904 -0.102672   \n",
       "8            3                           The Gallery  51.546509 -0.190200   \n",
       "9            4                 Bradley's Spanish Bar  51.516488 -0.132462   \n",
       "10           0                Park Plaza County Hall  51.501400 -0.116300   \n",
       "11           1  DoubleTree by Hilton London Victoria  51.493930 -0.143302   \n",
       "12           2                             Malmaison  51.520667 -0.100082   \n",
       "13           3                   Wellcome Collection  51.525861 -0.133907   \n",
       "14           4                   Wellcome Collection  51.525861 -0.133907   \n",
       "15           0                  Fairley House School  51.495202 -0.117444   \n",
       "16           1    St Peter's Eaton Square CE Primary  51.495949 -0.146568   \n",
       "17           2                         Argyle School  51.528271 -0.124323   \n",
       "18           3                 Hampstead Hill School  51.553483 -0.167996   \n",
       "19           4                         Argyle School  51.528271 -0.124323   \n",
       "\n",
       "       category  \n",
       "0       company  \n",
       "1       company  \n",
       "2       company  \n",
       "3       company  \n",
       "4       company  \n",
       "5          bars  \n",
       "6          bars  \n",
       "7          bars  \n",
       "8          bars  \n",
       "9          bars  \n",
       "10  conferences  \n",
       "11  conferences  \n",
       "12  conferences  \n",
       "13  conferences  \n",
       "14  conferences  \n",
       "15       school  \n",
       "16       school  \n",
       "17       school  \n",
       "18       school  \n",
       "19       school  "
      ]
     },
     "execution_count": 6,
     "metadata": {},
     "output_type": "execute_result"
    }
   ],
   "source": [
    "condiciones_london = pd.read_csv('../output/condiciones_london.csv')\n",
    "condiciones_london"
   ]
  },
  {
   "cell_type": "code",
   "execution_count": 27,
   "metadata": {},
   "outputs": [],
   "source": [
    "map_londres = Map(location= [51.500152, -0.126236], zoom_start = 15)"
   ]
  },
  {
   "cell_type": "code",
   "execution_count": 28,
   "metadata": {
    "scrolled": true
   },
   "outputs": [
    {
     "data": {
      "text/html": [
       "<div style=\"width:100%;\"><div style=\"position:relative;width:100%;height:0;padding-bottom:60%;\"><span style=\"color:#565656\">Make this Notebook Trusted to load map: File -> Trust Notebook</span><iframe src=\"about:blank\" style=\"position:absolute;width:100%;height:100%;left:0;top:0;border:none !important;\" data-html=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 onload=\"this.contentDocument.open();this.contentDocument.write(atob(this.getAttribute('data-html')));this.contentDocument.close();\" allowfullscreen webkitallowfullscreen mozallowfullscreen></iframe></div></div>"
      ],
      "text/plain": [
       "<folium.folium.Map at 0x2951d97c2b0>"
      ]
     },
     "execution_count": 28,
     "metadata": {},
     "output_type": "execute_result"
    }
   ],
   "source": [
    "for i,row in condiciones_london.iterrows():\n",
    "    distrito = {\n",
    "        \"location\" : [row[\"latitud\"], row[\"longitud\"]],\n",
    "        \"tooltip\" : row[\"name\"]\n",
    "    }\n",
    "    \n",
    "    if row[\"category\"] == \"bars\":\n",
    "        icon = Icon( color = \"green\",\n",
    "                    prefix = \"fa\",\n",
    "                    icon = \"glass\",\n",
    "                    icon_color = \"white\"\n",
    "        )\n",
    "    elif row[\"category\"] == \"conferences\":\n",
    "        icon = Icon( color = \"blue\",\n",
    "                    prefix = \"fa\",\n",
    "                    icon = \"briefcase\",\n",
    "                    icon_color = \"white\"\n",
    "        )\n",
    "    elif row[\"category\"] == \"school\":\n",
    "        icon = Icon( color = \"orange\",\n",
    "                    prefix = \"fa\",\n",
    "                    icon = \"fa-graduation-cap\",\n",
    "                    icon_color = \"white\"\n",
    "        )\n",
    "    else:\n",
    "        icon = Icon( color = \"red\",\n",
    "                    prefix = \"fa\",\n",
    "                    icon = \"fa-building-o\",\n",
    "                    icon_color = \"black\" )\n",
    "    Marker (**distrito,icon = icon).add_to(map_londres)\n",
    "map_londres"
   ]
  },
  {
   "cell_type": "code",
   "execution_count": 29,
   "metadata": {},
   "outputs": [],
   "source": [
    "map_londres.save('../input/mapa_londres_condiciones')"
   ]
  },
  {
   "cell_type": "markdown",
   "metadata": {},
   "source": [
    "### CALCULO DE LAS DISTANCIAS ENTRE NUESTRAS COORDENADAS"
   ]
  },
  {
   "cell_type": "markdown",
   "metadata": {},
   "source": [
    "#### En este momento estamos entre tres diferentes ubicaciones:\n",
    "* Cerca de la empresa ProcServe\n",
    "* Cerca de la empresa Seatwave\n",
    "* Cerca de la empresa Shutl\n",
    "\n",
    "#### PERO antes de tomar una decision vamos a ser buenos analistas y ser más precisos : Calcularemos las diferentes distancias entre las empresas preselccionadas y las condiciones que hemos puesto para tomas una solución"
   ]
  },
  {
   "cell_type": "code",
   "execution_count": 14,
   "metadata": {},
   "outputs": [],
   "source": [
    "import math"
   ]
  },
  {
   "cell_type": "code",
   "execution_count": 15,
   "metadata": {},
   "outputs": [],
   "source": [
    "def haversine(coord1, coord2):\n",
    "    R = 6372800  # Earth radius in meters\n",
    "    lat1, lon1 = coord1\n",
    "    lat2, lon2 = coord2\n",
    "    \n",
    "    phi1, phi2 = math.radians(lat1), math.radians(lat2) \n",
    "    dphi       = math.radians(lat2 - lat1)\n",
    "    dlambda    = math.radians(lon2 - lon1)\n",
    "    \n",
    "    a = math.sin(dphi/2)**2 + \\\n",
    "        math.cos(phi1)*math.cos(phi2)*math.sin(dlambda/2)**2\n",
    "    \n",
    "    return 2*R*math.atan2(math.sqrt(a), math.sqrt(1 - a))"
   ]
  },
  {
   "cell_type": "code",
   "execution_count": 18,
   "metadata": {},
   "outputs": [
    {
     "name": "stdout",
     "output_type": "stream",
     "text": [
      "The Goring Bar & Lounge 378.136855159371\n",
      "St Peters Eaton Square CE Primary 209.43571846854468\n",
      "DoubleTree by Hilton London Victoria 233.38286054893643\n"
     ]
    }
   ],
   "source": [
    "ProcServe_coord = 51.494067, -0.146665\n",
    "condiciones = {\n",
    "    'The Goring Bar & Lounge': (51.497385, -0.145475),\n",
    "    'St Peters Eaton Square CE Primary': (51.495949, -0.146568),\n",
    "    'DoubleTree by Hilton London Victoria': (51.493930, -0.143302)\n",
    "}\n",
    "\n",
    "for cond, coord in condiciones.items():\n",
    "    distance = haversine(ProcServe_coord, coord)\n",
    "    print(cond, distance)"
   ]
  },
  {
   "cell_type": "code",
   "execution_count": 19,
   "metadata": {},
   "outputs": [
    {
     "name": "stdout",
     "output_type": "stream",
     "text": [
      "Strangers Bar 173.2482960607241\n",
      "Fairley House School 820.8241091565441\n",
      "Park Plaza County Hall 701.8215142865959\n"
     ]
    }
   ],
   "source": [
    "Seatwave_coord = 51.500152, -0.126236\n",
    "condiciones = {\n",
    "    'Strangers Bar': (51.499564, -0.123919),\n",
    "    'Fairley House School': (51.495202, -0.117444),\n",
    "    'Park Plaza County Hall': (51.501400, -0.116300)\n",
    "}\n",
    "\n",
    "for cond, coord in condiciones.items():\n",
    "    distance = haversine(Seatwave_coord, coord)\n",
    "    print(cond, distance)"
   ]
  },
  {
   "cell_type": "code",
   "execution_count": 20,
   "metadata": {},
   "outputs": [
    {
     "name": "stdout",
     "output_type": "stream",
     "text": [
      "Oriole 90.61804928807926\n",
      "Malmaison 178.50477231865437\n"
     ]
    }
   ],
   "source": [
    "Shutl_coord = 51.519613, -0.102027\n",
    "condiciones = {\n",
    "    'Oriole': (51.518904, -0.102672),\n",
    "    'Malmaison': (51.520667, -0.100082)\n",
    "}\n",
    "for cond, coord in condiciones.items():\n",
    "    distance = haversine(Shutl_coord, coord)\n",
    "    print(cond, distance)"
   ]
  },
  {
   "cell_type": "markdown",
   "metadata": {},
   "source": [
    "#### CONCLUSIONES\n",
    "* Esta toma de decisión es más complicada que la de Madrid.\n",
    "* Como podeis observar tenemos 3 grandes ubicaciones muy atractivas y que encajan a la perfección con nuestras condiciones preferentes\n",
    "* PERO ¡OJO! ¿Os acordais de uno de nuestros primero mapas en donde podíamos ver la diferencia entre el total money raised de todas nuestras compañias?\n",
    "* En ese anterior podiamos observar que Seatwave tenia el mayor volumen de total raised money de todas nuestras empresas eslegidas, seguida por Sutl.\n",
    "* Sutl sería una buena opción para escoger pero teniendo a otra empresa que cumpla mayores concidiones la vamos a dejar por descartada.\n",
    "* Como podemos observar Procserve tiene menores distancias con nuestras condicones pero apenas tenia total money raised (si tuvieramos que elegir solamente una ubicación pues eslegiriamos una ubicacion cerca de esta pero quiero recordar que nuestras primeros conciones eran las empresas que adquirimos al principio mediante filtros) \n",
    "* Por lo tanto, nuestra decisión final será irnos a Londres a lanzar nuestra empresa y nuestra ubiación será finalmente:\n",
    "    - Latitud: 51.500152 \n",
    "    - Longitud: -0.126236"
   ]
  },
  {
   "cell_type": "code",
   "execution_count": 23,
   "metadata": {},
   "outputs": [],
   "source": [
    "map_final_decision = folium.Map(location = [51.500152, -0.126236], zoom_start = 15)"
   ]
  },
  {
   "cell_type": "code",
   "execution_count": 24,
   "metadata": {},
   "outputs": [
    {
     "data": {
      "text/html": [
       "<div style=\"width:100%;\"><div style=\"position:relative;width:100%;height:0;padding-bottom:60%;\"><span style=\"color:#565656\">Make this Notebook Trusted to load map: File -> Trust Notebook</span><iframe src=\"about:blank\" style=\"position:absolute;width:100%;height:100%;left:0;top:0;border:none !important;\" data-html=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 onload=\"this.contentDocument.open();this.contentDocument.write(atob(this.getAttribute('data-html')));this.contentDocument.close();\" allowfullscreen webkitallowfullscreen mozallowfullscreen></iframe></div></div>"
      ],
      "text/plain": [
       "<folium.folium.Map at 0x2951d90cd90>"
      ]
     },
     "execution_count": 24,
     "metadata": {},
     "output_type": "execute_result"
    }
   ],
   "source": [
    "Mi_empresa = Marker(location=[51.500152, -0.126236], tooltip = \"Futura empresa\")\n",
    "Mi_empresa.add_to(map_final_decision)\n",
    "map_final_decision"
   ]
  },
  {
   "cell_type": "code",
   "execution_count": 26,
   "metadata": {},
   "outputs": [],
   "source": [
    "map_final_decision.save('../input/mapa_final')"
   ]
  }
 ],
 "metadata": {
  "kernelspec": {
   "display_name": "Python 3",
   "language": "python",
   "name": "python3"
  },
  "language_info": {
   "codemirror_mode": {
    "name": "ipython",
    "version": 3
   },
   "file_extension": ".py",
   "mimetype": "text/x-python",
   "name": "python",
   "nbconvert_exporter": "python",
   "pygments_lexer": "ipython3",
   "version": "3.8.3"
  }
 },
 "nbformat": 4,
 "nbformat_minor": 4
}
